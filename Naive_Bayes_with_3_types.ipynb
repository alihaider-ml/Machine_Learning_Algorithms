{
  "nbformat": 4,
  "nbformat_minor": 0,
  "metadata": {
    "colab": {
      "provenance": []
    },
    "kernelspec": {
      "name": "python3",
      "display_name": "Python 3"
    },
    "language_info": {
      "name": "python"
    }
  },
  "cells": [
    {
      "cell_type": "markdown",
      "source": [
        "#Gussian Naive Bayes (For Continuous Data)"
      ],
      "metadata": {
        "id": "QObj_Uf6-zv2"
      }
    },
    {
      "cell_type": "markdown",
      "source": [
        "## importing the libraries"
      ],
      "metadata": {
        "id": "Qb0dqJjSH94R"
      }
    },
    {
      "cell_type": "code",
      "execution_count": null,
      "metadata": {
        "id": "LaSmBNQA-rqT"
      },
      "outputs": [],
      "source": [
        "from sklearn.naive_bayes import GaussianNB\n",
        "from sklearn.model_selection import train_test_split\n",
        "from sklearn.metrics import accuracy_score\n",
        "from sklearn.datasets import make_classification"
      ]
    },
    {
      "cell_type": "markdown",
      "source": [
        "## Generating and spliting the data"
      ],
      "metadata": {
        "id": "UEMP7lJpIMxX"
      }
    },
    {
      "cell_type": "code",
      "source": [
        "\n",
        "# Generating continuous data\n",
        "X_g, y_g = make_classification(n_samples=1000, n_features=10, random_state=42)\n",
        "\n",
        "# Spliting data into training and testing sets\n",
        "X_train_g, X_test_g, y_train_g, y_test_g = train_test_split(X_g, y_g, test_size=0.2, random_state=42)"
      ],
      "metadata": {
        "id": "5RNlzRkbIOmy"
      },
      "execution_count": null,
      "outputs": []
    },
    {
      "cell_type": "markdown",
      "source": [
        "## Training and evaluating the model"
      ],
      "metadata": {
        "id": "HwIr-p5dIWjz"
      }
    },
    {
      "cell_type": "code",
      "source": [
        "# Training Gaussian Naïve Bayes\n",
        "gnb = GaussianNB()\n",
        "gnb.fit(X_train_g, y_train_g)\n",
        "\n",
        "# Predict and evaluate\n",
        "y_pred_g = gnb.predict(X_test_g)\n",
        "print(\"Gaussian NB Accuracy:\", accuracy_score(y_test_g, y_pred_g))\n"
      ],
      "metadata": {
        "colab": {
          "base_uri": "https://localhost:8080/"
        },
        "id": "cJRnUR79IXB4",
        "outputId": "23a5ae8b-e420-48f0-e149-703032a7f82e"
      },
      "execution_count": null,
      "outputs": [
        {
          "output_type": "stream",
          "name": "stdout",
          "text": [
            "Gaussian NB Accuracy: 0.81\n"
          ]
        }
      ]
    },
    {
      "cell_type": "markdown",
      "source": [
        "#Multinomial Naive Bayes (For Discrete Data)"
      ],
      "metadata": {
        "id": "egE6_U97-9r9"
      }
    },
    {
      "cell_type": "markdown",
      "source": [
        "## importing the necessary libraries"
      ],
      "metadata": {
        "id": "B5g_5NkfIoEJ"
      }
    },
    {
      "cell_type": "code",
      "source": [
        "from sklearn.naive_bayes import MultinomialNB\n",
        "from sklearn.model_selection import train_test_split\n",
        "from sklearn.metrics import accuracy_score\n",
        "import numpy as np"
      ],
      "metadata": {
        "id": "bdksBOlR-6_n"
      },
      "execution_count": null,
      "outputs": []
    },
    {
      "cell_type": "markdown",
      "source": [
        "## Generating and spliting the data"
      ],
      "metadata": {
        "id": "ndhvsy4HItDA"
      }
    },
    {
      "cell_type": "code",
      "source": [
        "# Generating discrete count-based data\n",
        "X_m = np.random.randint(1, 10, size=(1000, 10))  # Only positive values\n",
        "y_m = np.random.randint(0, 2, size=1000)  # Binary target variable\n",
        "\n",
        "# Spliting the data into training and testing sets\n",
        "X_train_m, X_test_m, y_train_m, y_test_m = train_test_split(X_m, y_m, test_size=0.2, random_state=42)"
      ],
      "metadata": {
        "id": "QBwDlPwkIyqv"
      },
      "execution_count": null,
      "outputs": []
    },
    {
      "cell_type": "markdown",
      "source": [
        "## Training and evaluating the model"
      ],
      "metadata": {
        "id": "_vf1ocPgI3mS"
      }
    },
    {
      "cell_type": "code",
      "source": [
        "# Training Multinomial Naïve Bayes\n",
        "mnb = MultinomialNB()\n",
        "mnb.fit(X_train_m, y_train_m)\n",
        "\n",
        "# Predict and evaluate\n",
        "y_pred_m = mnb.predict(X_test_m)\n",
        "print(\"Multinomial NB Accuracy:\", accuracy_score(y_test_m, y_pred_m))"
      ],
      "metadata": {
        "colab": {
          "base_uri": "https://localhost:8080/"
        },
        "id": "cq1eUom6I7Jk",
        "outputId": "6f5cf8db-403b-41fd-be7e-a5270a059f76"
      },
      "execution_count": null,
      "outputs": [
        {
          "output_type": "stream",
          "name": "stdout",
          "text": [
            "Multinomial NB Accuracy: 0.5\n"
          ]
        }
      ]
    },
    {
      "cell_type": "markdown",
      "source": [
        "#Bernoulli Naïve Bayes (For Binary Data)"
      ],
      "metadata": {
        "id": "LDdMbeSg_GZa"
      }
    },
    {
      "cell_type": "markdown",
      "source": [
        "## importing the libraries"
      ],
      "metadata": {
        "id": "7-SgsHzhJEIw"
      }
    },
    {
      "cell_type": "code",
      "source": [
        "from sklearn.naive_bayes import BernoulliNB\n",
        "from sklearn.model_selection import train_test_split\n",
        "from sklearn.metrics import accuracy_score\n",
        "import numpy as np"
      ],
      "metadata": {
        "id": "WsSDIhdk_FiR"
      },
      "execution_count": null,
      "outputs": []
    },
    {
      "cell_type": "markdown",
      "source": [
        "## Generating and spliting the data"
      ],
      "metadata": {
        "id": "SEn0gdYWJHHE"
      }
    },
    {
      "cell_type": "code",
      "source": [
        "# Generating binary data (0s and 1s)\n",
        "X_b = np.random.randint(0, 2, size=(1000, 10))\n",
        "y_b = np.random.randint(0, 2, size=1000)\n",
        "\n",
        "# Spliting data into training and testing sets\n",
        "X_train_b, X_test_b, y_train_b, y_test_b = train_test_split(X_b, y_b, test_size=0.2, random_state=42)"
      ],
      "metadata": {
        "id": "psz63leGJJ3g"
      },
      "execution_count": null,
      "outputs": []
    },
    {
      "cell_type": "markdown",
      "source": [
        "## Training and evaluating the model"
      ],
      "metadata": {
        "id": "GU-_20FTJNi9"
      }
    },
    {
      "cell_type": "code",
      "source": [
        "# Training Bernoulli Naïve Bayes\n",
        "bnb = BernoulliNB()\n",
        "bnb.fit(X_train_b, y_train_b)\n",
        "\n",
        "# Predict and evaluate\n",
        "y_pred_b = bnb.predict(X_test_b)\n",
        "print(\"Bernoulli NB Accuracy:\", accuracy_score(y_test_b, y_pred_b))"
      ],
      "metadata": {
        "id": "RxkcXOy4_vng",
        "colab": {
          "base_uri": "https://localhost:8080/"
        },
        "outputId": "dbfab713-0cd6-4dcb-cc7e-cd19843668fc"
      },
      "execution_count": null,
      "outputs": [
        {
          "output_type": "stream",
          "name": "stdout",
          "text": [
            "Bernoulli NB Accuracy: 0.48\n"
          ]
        }
      ]
    }
  ]
}